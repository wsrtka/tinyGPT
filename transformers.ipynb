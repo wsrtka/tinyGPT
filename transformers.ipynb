{
 "cells": [
  {
   "cell_type": "code",
   "execution_count": 16,
   "metadata": {},
   "outputs": [],
   "source": [
    "\"\"\"Notebook for developing tinyGPT.\"\"\"\n",
    "# pylint: disable=import-error\n",
    "\n",
    "import torch\n",
    "from torch.nn import functional as F"
   ]
  },
  {
   "cell_type": "code",
   "execution_count": 3,
   "metadata": {},
   "outputs": [
    {
     "data": {
      "text/plain": [
       "torch.Size([4, 8, 2])"
      ]
     },
     "execution_count": 3,
     "metadata": {},
     "output_type": "execute_result"
    }
   ],
   "source": [
    "# generate example input vector\n",
    "batch_size, time, channels = 4, 8, 2\n",
    "x = torch.randn(batch_size, time, channels)\n",
    "print(x.shape)"
   ]
  },
  {
   "cell_type": "code",
   "execution_count": 5,
   "metadata": {},
   "outputs": [],
   "source": [
    "# create simple self-attention mechanism\n",
    "xbow = torch.zeros_like(x)\n",
    "for b in range(batch_size):\n",
    "    for t in range(time):\n",
    "        x_prev = x[b, : t + 1]\n",
    "        xbow[b, t] = torch.mean(x_prev, 0)"
   ]
  },
  {
   "cell_type": "code",
   "execution_count": 11,
   "metadata": {},
   "outputs": [
    {
     "name": "stdout",
     "output_type": "stream",
     "text": [
      "tensor([[1.0000, 0.0000, 0.0000, 0.0000, 0.0000, 0.0000, 0.0000, 0.0000],\n",
      "        [0.5000, 0.5000, 0.0000, 0.0000, 0.0000, 0.0000, 0.0000, 0.0000],\n",
      "        [0.3333, 0.3333, 0.3333, 0.0000, 0.0000, 0.0000, 0.0000, 0.0000],\n",
      "        [0.2500, 0.2500, 0.2500, 0.2500, 0.0000, 0.0000, 0.0000, 0.0000],\n",
      "        [0.2000, 0.2000, 0.2000, 0.2000, 0.2000, 0.0000, 0.0000, 0.0000],\n",
      "        [0.1667, 0.1667, 0.1667, 0.1667, 0.1667, 0.1667, 0.0000, 0.0000],\n",
      "        [0.1429, 0.1429, 0.1429, 0.1429, 0.1429, 0.1429, 0.1429, 0.0000],\n",
      "        [0.1250, 0.1250, 0.1250, 0.1250, 0.1250, 0.1250, 0.1250, 0.1250]])\n",
      "tensor([[[ 1.2905,  0.5389],\n",
      "         [ 0.8415, -0.3557],\n",
      "         [ 0.6960, -0.1377],\n",
      "         [ 0.6794, -0.0589],\n",
      "         [ 0.4851,  0.2227],\n",
      "         [ 0.2519,  0.2616],\n",
      "         [ 0.2829, -0.0353],\n",
      "         [ 0.2873,  0.0627]],\n",
      "\n",
      "        [[-1.7037,  0.1411],\n",
      "         [-1.8147, -0.4012],\n",
      "         [-1.1481, -0.1745],\n",
      "         [-1.2577, -0.0737],\n",
      "         [-0.9972,  0.0181],\n",
      "         [-0.6760, -0.3682],\n",
      "         [-0.4272, -0.0530],\n",
      "         [-0.3204,  0.0171]],\n",
      "\n",
      "        [[-0.3620, -0.0882],\n",
      "         [ 0.1356,  0.6456],\n",
      "         [ 0.2399,  0.1418],\n",
      "         [ 0.1667,  0.1532],\n",
      "         [ 0.1014,  0.0307],\n",
      "         [ 0.0796,  0.1804],\n",
      "         [ 0.1128,  0.1977],\n",
      "         [ 0.0357,  0.1903]],\n",
      "\n",
      "        [[ 1.4108,  0.9974],\n",
      "         [ 0.3002,  0.4922],\n",
      "         [ 0.3535,  0.0805],\n",
      "         [ 0.1673, -0.0349],\n",
      "         [ 0.2389, -0.0785],\n",
      "         [ 0.3428, -0.3421],\n",
      "         [ 0.3851, -0.1332],\n",
      "         [ 0.2604, -0.0687]]])\n"
     ]
    },
    {
     "data": {
      "text/plain": [
       "True"
      ]
     },
     "execution_count": 11,
     "metadata": {},
     "output_type": "execute_result"
    }
   ],
   "source": [
    "# self-attention mechanism with matrix multiplication\n",
    "w = torch.tril(torch.ones(time, time))\n",
    "w = w / w.sum(1, keepdim=True)\n",
    "# this is a matrix that sums in it's rows to 1\n",
    "print(w)\n",
    "xbow2 = w @ x\n",
    "torch.allclose(xbow, xbow2)"
   ]
  },
  {
   "cell_type": "code",
   "execution_count": 18,
   "metadata": {},
   "outputs": [
    {
     "name": "stdout",
     "output_type": "stream",
     "text": [
      "tensor([[1.0000, 0.0000, 0.0000, 0.0000, 0.0000, 0.0000, 0.0000, 0.0000],\n",
      "        [0.5000, 0.5000, 0.0000, 0.0000, 0.0000, 0.0000, 0.0000, 0.0000],\n",
      "        [0.3333, 0.3333, 0.3333, 0.0000, 0.0000, 0.0000, 0.0000, 0.0000],\n",
      "        [0.2500, 0.2500, 0.2500, 0.2500, 0.0000, 0.0000, 0.0000, 0.0000],\n",
      "        [0.2000, 0.2000, 0.2000, 0.2000, 0.2000, 0.0000, 0.0000, 0.0000],\n",
      "        [0.1667, 0.1667, 0.1667, 0.1667, 0.1667, 0.1667, 0.0000, 0.0000],\n",
      "        [0.1429, 0.1429, 0.1429, 0.1429, 0.1429, 0.1429, 0.1429, 0.0000],\n",
      "        [0.1250, 0.1250, 0.1250, 0.1250, 0.1250, 0.1250, 0.1250, 0.1250]])\n"
     ]
    },
    {
     "data": {
      "text/plain": [
       "True"
      ]
     },
     "execution_count": 18,
     "metadata": {},
     "output_type": "execute_result"
    }
   ],
   "source": [
    "# improve self-attention by adding softmax\n",
    "tril = torch.tril(torch.ones((time, time)))\n",
    "# set how many tokens from the past will be used\n",
    "w = torch.zeros((time, time))\n",
    "# inhibit communication with future tokens\n",
    "w = w.masked_fill(tril == 0, float(\"-inf\"))\n",
    "w = F.softmax(w, dim=-1)\n",
    "print(w)\n",
    "xbow3 = w @ x\n",
    "torch.allclose(xbow, xbow3)"
   ]
  },
  {
   "cell_type": "code",
   "execution_count": null,
   "metadata": {},
   "outputs": [],
   "source": []
  }
 ],
 "metadata": {
  "kernelspec": {
   "display_name": "Python 3.10.8 ('torch3.10')",
   "language": "python",
   "name": "python3"
  },
  "language_info": {
   "codemirror_mode": {
    "name": "ipython",
    "version": 3
   },
   "file_extension": ".py",
   "mimetype": "text/x-python",
   "name": "python",
   "nbconvert_exporter": "python",
   "pygments_lexer": "ipython3",
   "version": "3.10.8"
  },
  "orig_nbformat": 4,
  "vscode": {
   "interpreter": {
    "hash": "6bf980390fc6e3c4c1287655eff22c408b78d08c8c98dcda53cb95265c2e951a"
   }
  }
 },
 "nbformat": 4,
 "nbformat_minor": 2
}
