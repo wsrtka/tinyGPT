{
 "cells": [
  {
   "cell_type": "code",
   "execution_count": null,
   "metadata": {},
   "outputs": [],
   "source": [
    "\"\"\"Notebook for developing tinyGPT.\"\"\"\n",
    "# pylint: disable=import-error\n",
    "\n",
    "import torch\n",
    "import torch.nn as nn\n",
    "from torch.nn import functional as F"
   ]
  },
  {
   "cell_type": "code",
   "execution_count": null,
   "metadata": {},
   "outputs": [],
   "source": [
    "# generate example input vector\n",
    "batch_size, time, channels = 4, 8, 2\n",
    "x = torch.randn(batch_size, time, channels)\n",
    "print(x.shape)"
   ]
  },
  {
   "cell_type": "code",
   "execution_count": null,
   "metadata": {},
   "outputs": [],
   "source": [
    "# create simple self-attention mechanism\n",
    "xbow = torch.zeros_like(x)\n",
    "for b in range(batch_size):\n",
    "    for t in range(time):\n",
    "        x_prev = x[b, : t + 1]\n",
    "        xbow[b, t] = torch.mean(x_prev, 0)"
   ]
  },
  {
   "cell_type": "code",
   "execution_count": null,
   "metadata": {},
   "outputs": [],
   "source": [
    "# self-attention mechanism with matrix multiplication\n",
    "w = torch.tril(torch.ones(time, time))\n",
    "w = w / w.sum(1, keepdim=True)\n",
    "# this is a matrix that sums in it's rows to 1\n",
    "print(w)\n",
    "xbow2 = w @ x\n",
    "torch.allclose(xbow, xbow2)"
   ]
  },
  {
   "cell_type": "code",
   "execution_count": null,
   "metadata": {},
   "outputs": [],
   "source": [
    "# improve self-attention by adding softmax\n",
    "tril = torch.tril(torch.ones((time, time)))\n",
    "# set how many tokens from the past will be used\n",
    "w = torch.zeros((time, time))\n",
    "# inhibit communication with future tokens\n",
    "w = w.masked_fill(tril == 0, float(\"-inf\"))\n",
    "w = F.softmax(w, dim=-1)\n",
    "print(w)\n",
    "xbow3 = w @ x\n",
    "torch.allclose(xbow, xbow3)"
   ]
  },
  {
   "cell_type": "code",
   "execution_count": null,
   "metadata": {},
   "outputs": [],
   "source": [
    "# self attention head implementation\n",
    "# random input vector\n",
    "batch, time, channels = 4, 8, 32\n",
    "x = torch.randn(batch, time, channels)\n",
    "\n",
    "head_size = 16\n",
    "key = nn.Linear(channels, head_size, bias=False)\n",
    "query = nn.Linear(channels, head_size, bias=False)\n",
    "value = nn.Linear(channels, head_size, bias=False)\n",
    "\n",
    "k = key(x)\n",
    "q = query(x)\n",
    "\n",
    "wei = q @ k.transpose(-2, -1)\n",
    "\n",
    "tril = torch.tril(torch.ones(time, time))\n",
    "wei = wei.masked_fill(tril == 0, float(\"-inf\"))\n",
    "wei = F.softmax(wei, dim=-1)\n",
    "\n",
    "v = value(x)\n",
    "out = wei @ v\n",
    "\n",
    "print(out.shape)"
   ]
  },
  {
   "cell_type": "code",
   "execution_count": null,
   "metadata": {},
   "outputs": [],
   "source": [
    "wei[0]"
   ]
  },
  {
   "cell_type": "code",
   "execution_count": null,
   "metadata": {},
   "outputs": [],
   "source": []
  }
 ],
 "metadata": {
  "kernelspec": {
   "display_name": "Python 3.10.8 ('torch3.10')",
   "language": "python",
   "name": "python3"
  },
  "language_info": {
   "codemirror_mode": {
    "name": "ipython",
    "version": 3
   },
   "file_extension": ".py",
   "mimetype": "text/x-python",
   "name": "python",
   "nbconvert_exporter": "python",
   "pygments_lexer": "ipython3",
   "version": "3.10.8"
  },
  "orig_nbformat": 4,
  "vscode": {
   "interpreter": {
    "hash": "6bf980390fc6e3c4c1287655eff22c408b78d08c8c98dcda53cb95265c2e951a"
   }
  }
 },
 "nbformat": 4,
 "nbformat_minor": 2
}
